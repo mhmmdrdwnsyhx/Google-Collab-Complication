{
  "nbformat": 4,
  "nbformat_minor": 0,
  "metadata": {
    "colab": {
      "provenance": []
    },
    "kernelspec": {
      "name": "python3",
      "display_name": "Python 3"
    },
    "language_info": {
      "name": "python"
    }
  },
  "cells": [
    {
      "cell_type": "code",
      "execution_count": null,
      "metadata": {
        "colab": {
          "base_uri": "https://localhost:8080/"
        },
        "id": "Efn9yMTwbLw6",
        "outputId": "c5ff92d6-b553-4d39-b542-5e07aba9fb17"
      },
      "outputs": [
        {
          "output_type": "stream",
          "name": "stdout",
          "text": [
            "Collecting pycryptodome\n",
            "  Downloading pycryptodome-3.23.0-cp37-abi3-manylinux_2_17_x86_64.manylinux2014_x86_64.whl.metadata (3.4 kB)\n",
            "Downloading pycryptodome-3.23.0-cp37-abi3-manylinux_2_17_x86_64.manylinux2014_x86_64.whl (2.3 MB)\n",
            "\u001b[2K   \u001b[90m━━━━━━━━━━━━━━━━━━━━━━━━━━━━━━━━━━━━━━━━\u001b[0m \u001b[32m2.3/2.3 MB\u001b[0m \u001b[31m31.8 MB/s\u001b[0m eta \u001b[36m0:00:00\u001b[0m\n",
            "\u001b[?25hInstalling collected packages: pycryptodome\n",
            "Successfully installed pycryptodome-3.23.0\n"
          ]
        }
      ],
      "source": [
        "pip install pycryptodome"
      ]
    },
    {
      "cell_type": "code",
      "source": [
        "import base64\n",
        "from Crypto.Cipher import AES\n",
        "from Crypto.Util.Padding import pad,unpad\n",
        "from Crypto.Random import get_random_bytes #only for AES CBC mode"
      ],
      "metadata": {
        "id": "eHAqBmSPdTI-"
      },
      "execution_count": null,
      "outputs": []
    },
    {
      "cell_type": "code",
      "source": [],
      "metadata": {
        "id": "Kqb2wlfM4Mhc"
      },
      "execution_count": null,
      "outputs": []
    },
    {
      "cell_type": "code",
      "source": [],
      "metadata": {
        "id": "kmqf-lU27mMD"
      },
      "execution_count": null,
      "outputs": []
    },
    {
      "cell_type": "markdown",
      "source": [
        " ENCRYPT 1 line"
      ],
      "metadata": {
        "id": "qgd6SUKPaeqt"
      }
    },
    {
      "cell_type": "code",
      "source": [
        "import base64\n",
        "from Crypto.Cipher import AES\n",
        "from Crypto.Util.Padding import pad, unpad\n",
        "\n",
        "def encrypt_file(file_path, key, iv):\n",
        "    with open(file_path, 'rb') as file:\n",
        "        data = file.read()\n",
        "\n",
        "    data = pad(data, 16)\n",
        "    cipher = AES.new(key.encode('utf-8'), AES.MODE_CBC, iv)\n",
        "    encrypted_data = base64.b64encode(cipher.encrypt(data))\n",
        "\n",
        "    with open(file_path + '.encrypted', 'wb') as encrypted_file:\n",
        "        encrypted_file.write(encrypted_data)\n",
        "\n",
        "file_path = 'pmmp_updatedata.txt'\n",
        "key = 's1n@rM@s@1234567' # 16 char for AES128\n",
        "iv = '1234567890@s1n@r'.encode('utf-8') # 16 char for AES128\n",
        "\n",
        "encrypt_file(file_path, key, iv)\n",
        "print('File encrypted successfully.')"
      ],
      "metadata": {
        "colab": {
          "base_uri": "https://localhost:8080/"
        },
        "id": "pRC-3sfF7mHo",
        "outputId": "32be25e2-2f0d-458b-a35a-53becdab01ea"
      },
      "execution_count": null,
      "outputs": [
        {
          "output_type": "stream",
          "name": "stdout",
          "text": [
            "File encrypted successfully.\n"
          ]
        }
      ]
    },
    {
      "cell_type": "code",
      "source": [],
      "metadata": {
        "id": "4x4m4S6o81kJ"
      },
      "execution_count": null,
      "outputs": []
    },
    {
      "cell_type": "code",
      "source": [],
      "metadata": {
        "id": "Kwv5ItEXajVb"
      },
      "execution_count": null,
      "outputs": []
    },
    {
      "cell_type": "markdown",
      "source": [
        "ENCRYPT MULTIPLE LINE"
      ],
      "metadata": {
        "id": "7cTw973ibDtS"
      }
    },
    {
      "cell_type": "code",
      "source": [],
      "metadata": {
        "id": "XpUHSa7I81zN"
      },
      "execution_count": null,
      "outputs": []
    },
    {
      "cell_type": "code",
      "source": [
        "import base64\n",
        "from Crypto.Cipher import AES\n",
        "from Crypto.Util.Padding import pad, unpad\n",
        "\n",
        "def encrypt_line(line, key, iv):\n",
        "    line = pad(line.encode(), 16)\n",
        "    cipher = AES.new(key.encode('utf-8'), AES.MODE_CBC, iv)\n",
        "    encrypted_line = base64.b64encode(cipher.encrypt(line))\n",
        "    return encrypted_line\n",
        "\n",
        "def encrypt_file(file_path, key, iv):\n",
        "    with open(file_path, 'r') as file:\n",
        "        lines = file.readlines()\n",
        "\n",
        "    encrypted_lines = []\n",
        "    for line in lines:\n",
        "        encrypted_line = encrypt_line(line.strip(), key, iv)\n",
        "        encrypted_lines.append(encrypted_line.decode(\"utf-8\"))\n",
        "\n",
        "    encrypted_file_path = file_path + '.encrypted'\n",
        "    with open(encrypted_file_path, 'w') as encrypted_file:\n",
        "        encrypted_file.write('\\n'.join(encrypted_lines))\n",
        "\n",
        "    print('File encrypted successfully.')\n",
        "\n",
        "file_path = 'pmmp_data2.3.8 (2).txt'\n",
        "key = 's1n@rM@s@1234567' # 16 char for AES128\n",
        "iv = '1234567890@s1n@r'.encode('utf-8') # 16 char for AES128\n",
        "\n",
        "encrypt_file(file_path, key, iv)\n"
      ],
      "metadata": {
        "colab": {
          "base_uri": "https://localhost:8080/"
        },
        "id": "ynqA205782Jh",
        "outputId": "2c44e920-89df-4dfa-c5b8-8b148548d7f3"
      },
      "execution_count": null,
      "outputs": [
        {
          "output_type": "stream",
          "name": "stdout",
          "text": [
            "File encrypted successfully.\n"
          ]
        }
      ]
    },
    {
      "cell_type": "markdown",
      "source": [
        "DECRYPT"
      ],
      "metadata": {
        "id": "OCwf8ZB9bTTF"
      }
    },
    {
      "cell_type": "code",
      "source": [
        "import base64\n",
        "from Crypto.Cipher import AES\n",
        "from Crypto.Util.Padding import pad, unpad\n",
        "\n",
        "def decrypt_line(line, key, iv):\n",
        "    encrypted_line = base64.b64decode(line)\n",
        "    cipher = AES.new(key.encode('utf-8'), AES.MODE_CBC, iv)\n",
        "    decrypted_line = unpad(cipher.decrypt(encrypted_line), AES.block_size)\n",
        "    return decrypted_line.decode(\"utf-8\",errors='replace')\n",
        "\n",
        "def decrypt_file(file_path, key, iv):\n",
        "    with open(file_path, 'r') as encrypted_file:\n",
        "        encrypted_lines = encrypted_file.readlines()\n",
        "\n",
        "    decrypted_lines = []\n",
        "    for line in encrypted_lines:\n",
        "        decrypted_line = decrypt_line(line.strip(), key, iv)\n",
        "        decrypted_lines.append(decrypted_line)\n",
        "\n",
        "    decrypted_file_path = file_path + '.decrypted'\n",
        "    with open(decrypted_file_path, 'w') as decrypted_file:\n",
        "        decrypted_file.write('\\n'.join(decrypted_lines))\n",
        "\n",
        "    print('File decrypted successfully.')\n",
        "\n",
        "encrypted_file_path = 'SMSE.YZ.20250721.8973.v3.0.2.part.1.txt'\n",
        "key = 's1n@rM@s@1234567' # 16 char for AES128\n",
        "iv = '1234567890@s1n@r'.encode('utf-8') # 16 char for AES128\n",
        "\n",
        "decrypt_file(encrypted_file_path, key, iv)\n"
      ],
      "metadata": {
        "colab": {
          "base_uri": "https://localhost:8080/"
        },
        "id": "Qyn0jk3obUR4",
        "outputId": "6985e7c1-fb7e-4dcb-9b82-e0abfeca4372"
      },
      "execution_count": null,
      "outputs": [
        {
          "output_type": "stream",
          "name": "stdout",
          "text": [
            "File decrypted successfully.\n"
          ]
        }
      ]
    }
  ]
}