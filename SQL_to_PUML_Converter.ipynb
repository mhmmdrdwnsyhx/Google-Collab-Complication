{
  "nbformat": 4,
  "nbformat_minor": 0,
  "metadata": {
    "colab": {
      "provenance": []
    },
    "kernelspec": {
      "name": "python3",
      "display_name": "Python 3"
    },
    "language_info": {
      "name": "python"
    }
  },
  "cells": [
    {
      "cell_type": "code",
      "execution_count": 1,
      "metadata": {
        "colab": {
          "base_uri": "https://localhost:8080/"
        },
        "id": "lmzNYd-J8Ux1",
        "outputId": "21cc6efc-bc36-46cc-b8c1-70f149c89189"
      },
      "outputs": [
        {
          "output_type": "stream",
          "name": "stdout",
          "text": [
            "Requirement already satisfied: sqlparse in /usr/local/lib/python3.11/dist-packages (0.5.3)\n"
          ]
        }
      ],
      "source": [
        "!pip install sqlparse"
      ]
    },
    {
      "cell_type": "code",
      "source": [
        "import sqlparse\n",
        "from sqlparse.sql import IdentifierList, Identifier\n",
        "from sqlparse.tokens import Keyword, DML\n",
        "\n",
        "def extract_tables(sql):\n",
        "    tables = []\n",
        "    parsed = sqlparse.parse(sql)\n",
        "    for statement in parsed:\n",
        "        if statement.get_type() != 'CREATE':\n",
        "            continue\n",
        "        tokens = statement.tokens\n",
        "        for i, token in enumerate(tokens):\n",
        "            if token.ttype is Keyword and token.value.upper() == 'TABLE':\n",
        "                table_name = tokens[i+2].value.strip('\"`')\n",
        "                columns = []\n",
        "                parenthesis = [t for t in tokens if t.ttype is None and '(' in str(t)]\n",
        "                if parenthesis:\n",
        "                    col_defs = str(parenthesis[0]).strip('()').split(',')\n",
        "                    for col in col_defs:\n",
        "                        parts = col.strip().split()\n",
        "                        if len(parts) >= 2:\n",
        "                            col_name = parts[0].strip('`')\n",
        "                            col_type = parts[1]\n",
        "                            columns.append((col_name, col_type))\n",
        "                tables.append((table_name, columns))\n",
        "    return tables"
      ],
      "metadata": {
        "id": "NHtz2g5s8brX"
      },
      "execution_count": 2,
      "outputs": []
    },
    {
      "cell_type": "code",
      "source": [
        "def generate_puml(tables):\n",
        "    puml = [\"@startuml\", \"skinparam classAttributeIconSize 0\"]\n",
        "    for table_name, columns in tables:\n",
        "        puml.append(f\"class {table_name} {{\")\n",
        "        for col_name, col_type in columns:\n",
        "            puml.append(f\"  {col_name} : {col_type}\")\n",
        "        puml.append(\"}\")\n",
        "    puml.append(\"@enduml\")\n",
        "    return '\\n'.join(puml)\n",
        "\n",
        "# Load SQL file\n",
        "with open('/content/sample_data/dps2.sql', 'r') as f:  # ganti dengan nama file-mu\n",
        "    sql = f.read()\n",
        "\n",
        "tables = extract_tables(sql)\n",
        "puml_code = generate_puml(tables)\n",
        "\n",
        "# Simpan sebagai file PlantUML\n",
        "with open('/content/master_data.puml', 'w') as f:\n",
        "    f.write(puml_code)\n",
        "\n",
        "print(\"✅ ERD berhasil dibuat jadi file PlantUML: erd.puml\")"
      ],
      "metadata": {
        "colab": {
          "base_uri": "https://localhost:8080/"
        },
        "id": "Zyjvvwvr9D0Z",
        "outputId": "2d112ef5-fd1e-4bf4-808c-cdc4ea8a26af"
      },
      "execution_count": 4,
      "outputs": [
        {
          "output_type": "stream",
          "name": "stdout",
          "text": [
            "✅ ERD berhasil dibuat jadi file PlantUML: erd.puml\n"
          ]
        }
      ]
    }
  ]
}